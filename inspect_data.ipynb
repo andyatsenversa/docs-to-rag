{
 "cells": [
  {
   "cell_type": "code",
   "execution_count": 1,
   "metadata": {},
   "outputs": [
    {
     "name": "stdout",
     "output_type": "stream",
     "text": [
      "      id  document_id                                            content  \\\n",
      "0      1            1  28 September 2022  Walid Ahmed Council Officer...   \n",
      "1      2            1  28 September 2022  Walid Ahmed Council Officer...   \n",
      "2      3            1  28 September 2022  Walid Ahmed Council Officer...   \n",
      "3      4            1  28 September 2022  Walid Ahmed Council Officer...   \n",
      "4      5            1  28 September 2022  Walid Ahmed Council Officer...   \n",
      "..   ...          ...                                                ...   \n",
      "797  798           12  18 August 2022  John Booth Senior Consultant U...   \n",
      "798  799           12  18 August 2022  John Booth Senior Consultant U...   \n",
      "799  800           12  Senversa understands that: The site is approxi...   \n",
      "800  801           12  Heliport Developers Pty Ltd is planning redeve...   \n",
      "801  802           12  Development Consent number DA21/15298 has been...   \n",
      "\n",
      "                                             embedding  \n",
      "0    [0.10256209969520569, 0.0563853457570076, 0.01...  \n",
      "1    [0.10256209969520569, 0.0563853457570076, 0.01...  \n",
      "2    [0.10256209969520569, 0.0563853457570076, 0.01...  \n",
      "3    [0.10256209969520569, 0.0563853457570076, 0.01...  \n",
      "4    [0.10256209969520569, 0.0563853457570076, 0.01...  \n",
      "..                                                 ...  \n",
      "797  [-0.08950422704219818, 0.037354402244091034, 0...  \n",
      "798  [-0.08950422704219818, 0.037354402244091034, 0...  \n",
      "799  [-0.10066578537225723, 0.04473244026303291, 0....  \n",
      "800  [-0.0685136690735817, 0.06535252928733826, 0.0...  \n",
      "801  [-0.10343626141548157, 0.03505880758166313, 0....  \n",
      "\n",
      "[802 rows x 4 columns]\n"
     ]
    }
   ],
   "source": [
    "import sqlite3\n",
    "import pandas as pd\n",
    "\n",
    "def fetch_table_as_dataframe(db_path, table_name):\n",
    "    # Connect to the SQLite database\n",
    "    conn = sqlite3.connect(db_path)\n",
    "    \n",
    "    # Query the table and load it into a pandas DataFrame\n",
    "    query = f\"SELECT * FROM {table_name}\"\n",
    "    df = pd.read_sql_query(query, conn)\n",
    "    \n",
    "    # Close the connection\n",
    "    conn.close()\n",
    "    \n",
    "    return df\n",
    "\n",
    "# Example usage\n",
    "db_path = 'rag_database.sqlite'\n",
    "table_name = 'chunks'\n",
    "df = fetch_table_as_dataframe(db_path, table_name)\n",
    "print(df)\n",
    "# df.to_csv('rag_database_chunks.csv', index=False)\n",
    "\n",
    "# df = fetch_table_as_dataframe(db_path, 'documents')\n",
    "# df.to_csv('rag_database_docs.csv', index=False)\n"
   ]
  }
 ],
 "metadata": {
  "kernelspec": {
   "display_name": "rag_env",
   "language": "python",
   "name": "python3"
  },
  "language_info": {
   "codemirror_mode": {
    "name": "ipython",
    "version": 3
   },
   "file_extension": ".py",
   "mimetype": "text/x-python",
   "name": "python",
   "nbconvert_exporter": "python",
   "pygments_lexer": "ipython3",
   "version": "3.12.1"
  }
 },
 "nbformat": 4,
 "nbformat_minor": 2
}
